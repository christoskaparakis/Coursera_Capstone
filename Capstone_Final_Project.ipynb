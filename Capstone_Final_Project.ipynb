{
    "cells": [
        {
            "cell_type": "markdown",
            "metadata": {
                "collapsed": true
            },
            "source": "# Real Estate Prices & Venues Data Analysis of London - Coursera Capstone Project"
        },
        {
            "cell_type": "markdown",
            "metadata": {},
            "source": "This notebook contains the code for the Coursera Capstone Project on Data Science by IBM and Coursera"
        },
        {
            "cell_type": "markdown",
            "metadata": {},
            "source": "# Introduction and Business Problem"
        },
        {
            "cell_type": "markdown",
            "metadata": {},
            "source": "#### Introduction:"
        },
        {
            "cell_type": "markdown",
            "metadata": {},
            "source": "- London is the capital of and largest city in England and the United Kingdom, with the largest municipal population in the European Union. London has a diverse range of people and cultures, and more than 300 languages are spoken in the region.Its estimated mid-2016 municipal population (corresponding to Greater London) was 8,787,892, the most populous of any city in the European Union and accounting for 13.4% of the UK population. London\u2019s urban area is the second most populous in the EU, after Paris, with 9,787,426 inhabitants at the 2011 census. The population density is 14,500/sq mi.[1]"
        },
        {
            "cell_type": "markdown",
            "metadata": {},
            "source": "#### Business Problem:"
        },
        {
            "cell_type": "markdown",
            "metadata": {},
            "source": "- London is a city with a high population and population density. As from Real Estate investor point of view we want to invest in such places were the housing prices are low and the facilities(shops,restaurants,parks,Hotels, etc.) and social venues are nearby. Keeping above things in mind it is very difficult for an individual to find such place in such big city and gather this much information. When we consider all these problems, we can create a map and information chart where the real estate index is placed on London and each district is clustered according to the venue density."
        },
        {
            "cell_type": "markdown",
            "metadata": {},
            "source": "## Data Required"
        },
        {
            "cell_type": "markdown",
            "metadata": {},
            "source": "The data that will be used to adress the avobe problem are:\n\n- List of areas of London was found with its boroughs and postcodes from Wikipedia.\n- For housing prices, I found a website (https://propertydata.co.uk/cities/london) where latest London house prices were available with the postal codes.\n- Forsquare API will be used to get the most common venues of given Borough of London.\n- For chloropleth maps I used .geojson file of London."
        },
        {
            "cell_type": "code",
            "execution_count": null,
            "metadata": {},
            "outputs": [],
            "source": ""
        }
    ],
    "metadata": {
        "kernelspec": {
            "display_name": "Python 3.6",
            "language": "python",
            "name": "python3"
        },
        "language_info": {
            "codemirror_mode": {
                "name": "ipython",
                "version": 3
            },
            "file_extension": ".py",
            "mimetype": "text/x-python",
            "name": "python",
            "nbconvert_exporter": "python",
            "pygments_lexer": "ipython3",
            "version": "3.6.9"
        }
    },
    "nbformat": 4,
    "nbformat_minor": 1
}